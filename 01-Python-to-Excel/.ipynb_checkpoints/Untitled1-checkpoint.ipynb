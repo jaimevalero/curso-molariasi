{
 "cells": [
  {
   "cell_type": "code",
   "execution_count": 2,
   "metadata": {},
   "outputs": [],
   "source": [
    "import pandas as pd"
   ]
  },
  {
   "cell_type": "code",
   "execution_count": 5,
   "metadata": {},
   "outputs": [
    {
     "data": {
      "text/html": [
       "<div>\n",
       "<style scoped>\n",
       "    .dataframe tbody tr th:only-of-type {\n",
       "        vertical-align: middle;\n",
       "    }\n",
       "\n",
       "    .dataframe tbody tr th {\n",
       "        vertical-align: top;\n",
       "    }\n",
       "\n",
       "    .dataframe thead th {\n",
       "        text-align: right;\n",
       "    }\n",
       "</style>\n",
       "<table border=\"1\" class=\"dataframe\">\n",
       "  <thead>\n",
       "    <tr style=\"text-align: right;\">\n",
       "      <th></th>\n",
       "      <th>ID</th>\n",
       "      <th>Job Title</th>\n",
       "      <th>Email Address</th>\n",
       "      <th>FirstName LastName</th>\n",
       "    </tr>\n",
       "  </thead>\n",
       "  <tbody>\n",
       "    <tr>\n",
       "      <th>0</th>\n",
       "      <td>1</td>\n",
       "      <td>Ambulatory Nurse</td>\n",
       "      <td>Elijah_Stevens3672@famism.biz</td>\n",
       "      <td>Elijah Stevens</td>\n",
       "    </tr>\n",
       "    <tr>\n",
       "      <th>1</th>\n",
       "      <td>2</td>\n",
       "      <td>Webmaster</td>\n",
       "      <td>Karla_Walter4247@gompie.com</td>\n",
       "      <td>Karla Walter</td>\n",
       "    </tr>\n",
       "    <tr>\n",
       "      <th>2</th>\n",
       "      <td>3</td>\n",
       "      <td>Investment  Advisor</td>\n",
       "      <td>Sharon_Stewart2228@infotech44.tech</td>\n",
       "      <td>Sharon Stewart</td>\n",
       "    </tr>\n",
       "    <tr>\n",
       "      <th>3</th>\n",
       "      <td>4</td>\n",
       "      <td>Pharmacist</td>\n",
       "      <td>Owen_Kent7264@bungar.biz</td>\n",
       "      <td>Owen Kent</td>\n",
       "    </tr>\n",
       "    <tr>\n",
       "      <th>4</th>\n",
       "      <td>5</td>\n",
       "      <td>Bellman</td>\n",
       "      <td>Skylar_Campbell2353@bauros.biz</td>\n",
       "      <td>Skylar Campbell</td>\n",
       "    </tr>\n",
       "    <tr>\n",
       "      <th>5</th>\n",
       "      <td>6</td>\n",
       "      <td>Paramedic</td>\n",
       "      <td>Tony_Leigh9337@vetan.org</td>\n",
       "      <td>Tony Leigh</td>\n",
       "    </tr>\n",
       "    <tr>\n",
       "      <th>6</th>\n",
       "      <td>7</td>\n",
       "      <td>Restaurant Manager</td>\n",
       "      <td>Ally_Needham2335@muall.tech</td>\n",
       "      <td>Ally Needham</td>\n",
       "    </tr>\n",
       "    <tr>\n",
       "      <th>7</th>\n",
       "      <td>8</td>\n",
       "      <td>Executive Director</td>\n",
       "      <td>Caydence_Corbett2511@corti.com</td>\n",
       "      <td>Caydence Corbett</td>\n",
       "    </tr>\n",
       "    <tr>\n",
       "      <th>8</th>\n",
       "      <td>9</td>\n",
       "      <td>Fabricator</td>\n",
       "      <td>Bethany_Potter6853@bretoux.com</td>\n",
       "      <td>Bethany Potter</td>\n",
       "    </tr>\n",
       "    <tr>\n",
       "      <th>9</th>\n",
       "      <td>10</td>\n",
       "      <td>Business Broker</td>\n",
       "      <td>Mason_Marshall8843@acrit.org</td>\n",
       "      <td>Mason Marshall</td>\n",
       "    </tr>\n",
       "    <tr>\n",
       "      <th>10</th>\n",
       "      <td>data generated with OnlineDataGenerator availa...</td>\n",
       "      <td>NaN</td>\n",
       "      <td>NaN</td>\n",
       "      <td>NaN</td>\n",
       "    </tr>\n",
       "  </tbody>\n",
       "</table>\n",
       "</div>"
      ],
      "text/plain": [
       "                                                   ID            Job Title  \\\n",
       "0                                                   1     Ambulatory Nurse   \n",
       "1                                                   2            Webmaster   \n",
       "2                                                   3  Investment  Advisor   \n",
       "3                                                   4           Pharmacist   \n",
       "4                                                   5              Bellman   \n",
       "5                                                   6            Paramedic   \n",
       "6                                                   7   Restaurant Manager   \n",
       "7                                                   8   Executive Director   \n",
       "8                                                   9           Fabricator   \n",
       "9                                                  10      Business Broker   \n",
       "10  data generated with OnlineDataGenerator availa...                  NaN   \n",
       "\n",
       "                         Email Address FirstName LastName  \n",
       "0        Elijah_Stevens3672@famism.biz     Elijah Stevens  \n",
       "1          Karla_Walter4247@gompie.com       Karla Walter  \n",
       "2   Sharon_Stewart2228@infotech44.tech     Sharon Stewart  \n",
       "3             Owen_Kent7264@bungar.biz          Owen Kent  \n",
       "4       Skylar_Campbell2353@bauros.biz    Skylar Campbell  \n",
       "5             Tony_Leigh9337@vetan.org         Tony Leigh  \n",
       "6          Ally_Needham2335@muall.tech       Ally Needham  \n",
       "7       Caydence_Corbett2511@corti.com   Caydence Corbett  \n",
       "8       Bethany_Potter6853@bretoux.com     Bethany Potter  \n",
       "9         Mason_Marshall8843@acrit.org     Mason Marshall  \n",
       "10                                 NaN                NaN  "
      ]
     },
     "execution_count": 5,
     "metadata": {},
     "output_type": "execute_result"
    }
   ],
   "source": [
    "df = pd.read_excel(\"datos.xlsx\")\n",
    "df"
   ]
  },
  {
   "cell_type": "code",
   "execution_count": 16,
   "metadata": {},
   "outputs": [
    {
     "data": {
      "text/html": [
       "<div>\n",
       "<style scoped>\n",
       "    .dataframe tbody tr th:only-of-type {\n",
       "        vertical-align: middle;\n",
       "    }\n",
       "\n",
       "    .dataframe tbody tr th {\n",
       "        vertical-align: top;\n",
       "    }\n",
       "\n",
       "    .dataframe thead th {\n",
       "        text-align: right;\n",
       "    }\n",
       "</style>\n",
       "<table border=\"1\" class=\"dataframe\">\n",
       "  <thead>\n",
       "    <tr style=\"text-align: right;\">\n",
       "      <th></th>\n",
       "      <th>ID</th>\n",
       "      <th>Job Title</th>\n",
       "      <th>Email Address</th>\n",
       "      <th>FirstName LastName</th>\n",
       "    </tr>\n",
       "  </thead>\n",
       "  <tbody>\n",
       "    <tr>\n",
       "      <th>6</th>\n",
       "      <td>7</td>\n",
       "      <td>Restaurant Manager</td>\n",
       "      <td>Ally_Needham2335@muall.tech</td>\n",
       "      <td>Ally Needham</td>\n",
       "    </tr>\n",
       "  </tbody>\n",
       "</table>\n",
       "</div>"
      ],
      "text/plain": [
       "  ID           Job Title                Email Address FirstName LastName\n",
       "6  7  Restaurant Manager  Ally_Needham2335@muall.tech       Ally Needham"
      ]
     },
     "execution_count": 16,
     "metadata": {},
     "output_type": "execute_result"
    }
   ],
   "source": [
    "df.query(\"\"\" ID == '7' \"\"\")"
   ]
  },
  {
   "cell_type": "code",
   "execution_count": 18,
   "metadata": {},
   "outputs": [],
   "source": [
    "dictionary = { \"Nombre\" : \"Pepe\", \"Edad\" : 47}"
   ]
  },
  {
   "cell_type": "code",
   "execution_count": 22,
   "metadata": {},
   "outputs": [
    {
     "name": "stdout",
     "output_type": "stream",
     "text": [
      "El nombre es Nombre, y el valor es Pepe\n",
      "El nombre es Edad, y el valor es 47\n"
     ]
    }
   ],
   "source": [
    "for k,v in dictionary.items() : \n",
    "    print (f\"El nombre es {k}, y el valor es {v}\")"
   ]
  },
  {
   "cell_type": "code",
   "execution_count": 24,
   "metadata": {},
   "outputs": [
    {
     "name": "stdout",
     "output_type": "stream",
     "text": [
      " El usuario es 1\n",
      " El usuario es 2\n",
      " El usuario es 3\n",
      " El usuario es 4\n",
      " El usuario es 5\n"
     ]
    }
   ],
   "source": [
    "usuarios = [1,2,3,4,5]\n",
    "for usuario in usuarios : \n",
    "    print(f\" El usuario es {usuario}\")"
   ]
  },
  {
   "cell_type": "code",
   "execution_count": 29,
   "metadata": {},
   "outputs": [
    {
     "name": "stdout",
     "output_type": "stream",
     "text": [
      "El nombre es Nombre, y el valor es Pepe\n",
      "El nombre es Edad, y el valor es 47\n",
      "El nombre es Nombre, y el valor es Maria\n",
      "El nombre es Edad, y el valor es 37\n"
     ]
    }
   ],
   "source": [
    "usuarios = [{ \"Nombre\" : \"Pepe\", \"Edad\" : 47},\n",
    "            { \"Nombre\" : \"Maria\", \"Edad\" : 37}\n",
    "           ]\n",
    "for usuario in usuarios :\n",
    "    for k,v in usuario.items() : \n",
    "        print (f\"El nombre es {k}, y el valor es {v}\")"
   ]
  },
  {
   "cell_type": "code",
   "execution_count": 31,
   "metadata": {},
   "outputs": [
    {
     "data": {
      "text/plain": [
       "[{'ID': '1',\n",
       "  'Job Title': 'Ambulatory Nurse',\n",
       "  'Email Address': 'Elijah_Stevens3672@famism.biz',\n",
       "  'FirstName LastName': 'Elijah Stevens'},\n",
       " {'ID': '2',\n",
       "  'Job Title': 'Webmaster',\n",
       "  'Email Address': 'Karla_Walter4247@gompie.com',\n",
       "  'FirstName LastName': 'Karla Walter'},\n",
       " {'ID': '3',\n",
       "  'Job Title': 'Investment  Advisor',\n",
       "  'Email Address': 'Sharon_Stewart2228@infotech44.tech',\n",
       "  'FirstName LastName': 'Sharon Stewart'},\n",
       " {'ID': '4',\n",
       "  'Job Title': 'Pharmacist',\n",
       "  'Email Address': 'Owen_Kent7264@bungar.biz',\n",
       "  'FirstName LastName': 'Owen Kent'},\n",
       " {'ID': '5',\n",
       "  'Job Title': 'Bellman',\n",
       "  'Email Address': 'Skylar_Campbell2353@bauros.biz',\n",
       "  'FirstName LastName': 'Skylar Campbell'},\n",
       " {'ID': '6',\n",
       "  'Job Title': 'Paramedic',\n",
       "  'Email Address': 'Tony_Leigh9337@vetan.org',\n",
       "  'FirstName LastName': 'Tony Leigh'},\n",
       " {'ID': '7',\n",
       "  'Job Title': 'Restaurant Manager',\n",
       "  'Email Address': 'Ally_Needham2335@muall.tech',\n",
       "  'FirstName LastName': 'Ally Needham'},\n",
       " {'ID': '8',\n",
       "  'Job Title': 'Executive Director',\n",
       "  'Email Address': 'Caydence_Corbett2511@corti.com',\n",
       "  'FirstName LastName': 'Caydence Corbett'},\n",
       " {'ID': '9',\n",
       "  'Job Title': 'Fabricator',\n",
       "  'Email Address': 'Bethany_Potter6853@bretoux.com',\n",
       "  'FirstName LastName': 'Bethany Potter'},\n",
       " {'ID': '10',\n",
       "  'Job Title': 'Business Broker',\n",
       "  'Email Address': 'Mason_Marshall8843@acrit.org',\n",
       "  'FirstName LastName': 'Mason Marshall'},\n",
       " {'ID': 'data generated with OnlineDataGenerator available at: https://www.onlinedatagenerator.com ',\n",
       "  'Job Title': nan,\n",
       "  'Email Address': nan,\n",
       "  'FirstName LastName': nan}]"
      ]
     },
     "execution_count": 31,
     "metadata": {},
     "output_type": "execute_result"
    }
   ],
   "source": [
    "df = pd.read_excel(\"datos.xlsx\")\n",
    "df.to_dict(orient=\"records\")"
   ]
  },
  {
   "cell_type": "code",
   "execution_count": 34,
   "metadata": {},
   "outputs": [
    {
     "data": {
      "text/html": [
       "<div>\n",
       "<style scoped>\n",
       "    .dataframe tbody tr th:only-of-type {\n",
       "        vertical-align: middle;\n",
       "    }\n",
       "\n",
       "    .dataframe tbody tr th {\n",
       "        vertical-align: top;\n",
       "    }\n",
       "\n",
       "    .dataframe thead th {\n",
       "        text-align: right;\n",
       "    }\n",
       "</style>\n",
       "<table border=\"1\" class=\"dataframe\">\n",
       "  <thead>\n",
       "    <tr style=\"text-align: right;\">\n",
       "      <th></th>\n",
       "      <th>Nombre</th>\n",
       "      <th>Edad</th>\n",
       "    </tr>\n",
       "  </thead>\n",
       "  <tbody>\n",
       "    <tr>\n",
       "      <th>0</th>\n",
       "      <td>Pepe</td>\n",
       "      <td>47</td>\n",
       "    </tr>\n",
       "    <tr>\n",
       "      <th>1</th>\n",
       "      <td>Maria</td>\n",
       "      <td>37</td>\n",
       "    </tr>\n",
       "  </tbody>\n",
       "</table>\n",
       "</div>"
      ],
      "text/plain": [
       "  Nombre  Edad\n",
       "0   Pepe    47\n",
       "1  Maria    37"
      ]
     },
     "execution_count": 34,
     "metadata": {},
     "output_type": "execute_result"
    }
   ],
   "source": [
    "usuarios\n",
    "df_usuarios = pd.DataFrame(usuarios)\n",
    "df_usuarios"
   ]
  },
  {
   "cell_type": "code",
   "execution_count": 35,
   "metadata": {},
   "outputs": [],
   "source": [
    "df_usuarios.to_excel(\"usuarios.xlsx\",\n",
    "             sheet_name='Hoja1',engine='openpyxl') \n"
   ]
  },
  {
   "cell_type": "code",
   "execution_count": null,
   "metadata": {},
   "outputs": [],
   "source": []
  }
 ],
 "metadata": {
  "kernelspec": {
   "display_name": "Python 3",
   "language": "python",
   "name": "python3"
  },
  "language_info": {
   "codemirror_mode": {
    "name": "ipython",
    "version": 3
   },
   "file_extension": ".py",
   "mimetype": "text/x-python",
   "name": "python",
   "nbconvert_exporter": "python",
   "pygments_lexer": "ipython3",
   "version": "3.8.1"
  },
  "varInspector": {
   "cols": {
    "lenName": 16,
    "lenType": 16,
    "lenVar": 40
   },
   "kernels_config": {
    "python": {
     "delete_cmd_postfix": "",
     "delete_cmd_prefix": "del ",
     "library": "var_list.py",
     "varRefreshCmd": "print(var_dic_list())"
    },
    "r": {
     "delete_cmd_postfix": ") ",
     "delete_cmd_prefix": "rm(",
     "library": "var_list.r",
     "varRefreshCmd": "cat(var_dic_list()) "
    }
   },
   "types_to_exclude": [
    "module",
    "function",
    "builtin_function_or_method",
    "instance",
    "_Feature"
   ],
   "window_display": false
  }
 },
 "nbformat": 4,
 "nbformat_minor": 4
}
