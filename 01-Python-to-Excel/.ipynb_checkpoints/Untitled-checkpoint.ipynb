{
 "cells": [
  {
   "cell_type": "code",
   "execution_count": 1,
   "metadata": {},
   "outputs": [],
   "source": [
    "import pandas as pd\n"
   ]
  },
  {
   "cell_type": "code",
   "execution_count": 3,
   "metadata": {},
   "outputs": [
    {
     "data": {
      "text/html": [
       "<div>\n",
       "<style scoped>\n",
       "    .dataframe tbody tr th:only-of-type {\n",
       "        vertical-align: middle;\n",
       "    }\n",
       "\n",
       "    .dataframe tbody tr th {\n",
       "        vertical-align: top;\n",
       "    }\n",
       "\n",
       "    .dataframe thead th {\n",
       "        text-align: right;\n",
       "    }\n",
       "</style>\n",
       "<table border=\"1\" class=\"dataframe\">\n",
       "  <thead>\n",
       "    <tr style=\"text-align: right;\">\n",
       "      <th></th>\n",
       "      <th>ID</th>\n",
       "      <th>Job Title</th>\n",
       "      <th>Email Address</th>\n",
       "      <th>FirstName LastName</th>\n",
       "    </tr>\n",
       "  </thead>\n",
       "  <tbody>\n",
       "    <tr>\n",
       "      <th>0</th>\n",
       "      <td>1</td>\n",
       "      <td>Ambulatory Nurse</td>\n",
       "      <td>Elijah_Stevens3672@famism.biz</td>\n",
       "      <td>Elijah Stevens</td>\n",
       "    </tr>\n",
       "    <tr>\n",
       "      <th>1</th>\n",
       "      <td>2</td>\n",
       "      <td>Webmaster</td>\n",
       "      <td>Karla_Walter4247@gompie.com</td>\n",
       "      <td>Karla Walter</td>\n",
       "    </tr>\n",
       "    <tr>\n",
       "      <th>2</th>\n",
       "      <td>3</td>\n",
       "      <td>Investment  Advisor</td>\n",
       "      <td>Sharon_Stewart2228@infotech44.tech</td>\n",
       "      <td>Sharon Stewart</td>\n",
       "    </tr>\n",
       "    <tr>\n",
       "      <th>3</th>\n",
       "      <td>4</td>\n",
       "      <td>Pharmacist</td>\n",
       "      <td>Owen_Kent7264@bungar.biz</td>\n",
       "      <td>Owen Kent</td>\n",
       "    </tr>\n",
       "    <tr>\n",
       "      <th>4</th>\n",
       "      <td>5</td>\n",
       "      <td>Bellman</td>\n",
       "      <td>Skylar_Campbell2353@bauros.biz</td>\n",
       "      <td>Skylar Campbell</td>\n",
       "    </tr>\n",
       "    <tr>\n",
       "      <th>5</th>\n",
       "      <td>6</td>\n",
       "      <td>Paramedic</td>\n",
       "      <td>Tony_Leigh9337@vetan.org</td>\n",
       "      <td>Tony Leigh</td>\n",
       "    </tr>\n",
       "    <tr>\n",
       "      <th>6</th>\n",
       "      <td>7</td>\n",
       "      <td>Restaurant Manager</td>\n",
       "      <td>Ally_Needham2335@muall.tech</td>\n",
       "      <td>Ally Needham</td>\n",
       "    </tr>\n",
       "    <tr>\n",
       "      <th>7</th>\n",
       "      <td>8</td>\n",
       "      <td>Executive Director</td>\n",
       "      <td>Caydence_Corbett2511@corti.com</td>\n",
       "      <td>Caydence Corbett</td>\n",
       "    </tr>\n",
       "    <tr>\n",
       "      <th>8</th>\n",
       "      <td>9</td>\n",
       "      <td>Fabricator</td>\n",
       "      <td>Bethany_Potter6853@bretoux.com</td>\n",
       "      <td>Bethany Potter</td>\n",
       "    </tr>\n",
       "    <tr>\n",
       "      <th>9</th>\n",
       "      <td>10</td>\n",
       "      <td>Business Broker</td>\n",
       "      <td>Mason_Marshall8843@acrit.org</td>\n",
       "      <td>Mason Marshall</td>\n",
       "    </tr>\n",
       "    <tr>\n",
       "      <th>10</th>\n",
       "      <td>data generated with OnlineDataGenerator availa...</td>\n",
       "      <td>NaN</td>\n",
       "      <td>NaN</td>\n",
       "      <td>NaN</td>\n",
       "    </tr>\n",
       "  </tbody>\n",
       "</table>\n",
       "</div>"
      ],
      "text/plain": [
       "                                                   ID            Job Title  \\\n",
       "0                                                   1     Ambulatory Nurse   \n",
       "1                                                   2            Webmaster   \n",
       "2                                                   3  Investment  Advisor   \n",
       "3                                                   4           Pharmacist   \n",
       "4                                                   5              Bellman   \n",
       "5                                                   6            Paramedic   \n",
       "6                                                   7   Restaurant Manager   \n",
       "7                                                   8   Executive Director   \n",
       "8                                                   9           Fabricator   \n",
       "9                                                  10      Business Broker   \n",
       "10  data generated with OnlineDataGenerator availa...                  NaN   \n",
       "\n",
       "                         Email Address FirstName LastName  \n",
       "0        Elijah_Stevens3672@famism.biz     Elijah Stevens  \n",
       "1          Karla_Walter4247@gompie.com       Karla Walter  \n",
       "2   Sharon_Stewart2228@infotech44.tech     Sharon Stewart  \n",
       "3             Owen_Kent7264@bungar.biz          Owen Kent  \n",
       "4       Skylar_Campbell2353@bauros.biz    Skylar Campbell  \n",
       "5             Tony_Leigh9337@vetan.org         Tony Leigh  \n",
       "6          Ally_Needham2335@muall.tech       Ally Needham  \n",
       "7       Caydence_Corbett2511@corti.com   Caydence Corbett  \n",
       "8       Bethany_Potter6853@bretoux.com     Bethany Potter  \n",
       "9         Mason_Marshall8843@acrit.org     Mason Marshall  \n",
       "10                                 NaN                NaN  "
      ]
     },
     "execution_count": 3,
     "metadata": {},
     "output_type": "execute_result"
    }
   ],
   "source": [
    "df = pd.read_excel(\"datos.xlsx\")\n",
    "df"
   ]
  },
  {
   "cell_type": "code",
   "execution_count": 5,
   "metadata": {},
   "outputs": [
    {
     "data": {
      "text/plain": [
       "[{'Nombre': 'Jaime Alvaro', 'Cargo': 'Marido'},\n",
       " {'Nombre': 'Mónica Romero de Ávila', 'Cargo': 'Mujer'}]"
      ]
     },
     "execution_count": 5,
     "metadata": {},
     "output_type": "execute_result"
    }
   ],
   "source": [
    "usuarios = [{\"Nombre\": \"Jaime Alvaro\" , \"Cargo\" : \"Marido\" },\n",
    "      {\"Nombre\": \"Mónica Romero de Ávila\" , \"Cargo\" : \"Mujer\" },\n",
    "     ]\n",
    "usuarios"
   ]
  },
  {
   "cell_type": "code",
   "execution_count": 8,
   "metadata": {},
   "outputs": [
    {
     "ename": "AttributeError",
     "evalue": "'list' object has no attribute 'to_excel'",
     "output_type": "error",
     "traceback": [
      "\u001b[0;31m---------------------------------------------------------------------------\u001b[0m",
      "\u001b[0;31mAttributeError\u001b[0m                            Traceback (most recent call last)",
      "\u001b[0;32m<ipython-input-8-42cce83dede7>\u001b[0m in \u001b[0;36m<module>\u001b[0;34m\u001b[0m\n\u001b[0;32m----> 1\u001b[0;31m \u001b[0musuarios\u001b[0m\u001b[0;34m.\u001b[0m\u001b[0mto_excel\u001b[0m\u001b[0;34m(\u001b[0m\u001b[0;34m\"usuarios.xlsx\"\u001b[0m\u001b[0;34m,\u001b[0m \u001b[0msheet_name\u001b[0m\u001b[0;34m=\u001b[0m\u001b[0;34m'Sheet_name_1'\u001b[0m\u001b[0;34m,\u001b[0m\u001b[0mengine\u001b[0m\u001b[0;34m=\u001b[0m\u001b[0;34m'xlsxwriter'\u001b[0m\u001b[0;34m)\u001b[0m\u001b[0;34m\u001b[0m\u001b[0;34m\u001b[0m\u001b[0m\n\u001b[0m",
      "\u001b[0;31mAttributeError\u001b[0m: 'list' object has no attribute 'to_excel'"
     ]
    }
   ],
   "source": [
    "usuarios.to_excel(\"usuarios.xlsx\", sheet_name='Sheet_name_1',engine='xlsxwriter')\n"
   ]
  },
  {
   "cell_type": "code",
   "execution_count": null,
   "metadata": {},
   "outputs": [],
   "source": []
  }
 ],
 "metadata": {
  "kernelspec": {
   "display_name": "Python 3",
   "language": "python",
   "name": "python3"
  },
  "language_info": {
   "codemirror_mode": {
    "name": "ipython",
    "version": 3
   },
   "file_extension": ".py",
   "mimetype": "text/x-python",
   "name": "python",
   "nbconvert_exporter": "python",
   "pygments_lexer": "ipython3",
   "version": "3.8.1"
  },
  "varInspector": {
   "cols": {
    "lenName": 16,
    "lenType": 16,
    "lenVar": 40
   },
   "kernels_config": {
    "python": {
     "delete_cmd_postfix": "",
     "delete_cmd_prefix": "del ",
     "library": "var_list.py",
     "varRefreshCmd": "print(var_dic_list())"
    },
    "r": {
     "delete_cmd_postfix": ") ",
     "delete_cmd_prefix": "rm(",
     "library": "var_list.r",
     "varRefreshCmd": "cat(var_dic_list()) "
    }
   },
   "types_to_exclude": [
    "module",
    "function",
    "builtin_function_or_method",
    "instance",
    "_Feature"
   ],
   "window_display": false
  }
 },
 "nbformat": 4,
 "nbformat_minor": 4
}
